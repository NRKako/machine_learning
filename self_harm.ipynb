{
 "cells": [
  {
   "cell_type": "markdown",
   "id": "a737a12e-2b3e-4086-a236-5a443a9705f4",
   "metadata": {},
   "source": [
    "## Setup"
   ]
  },
  {
   "cell_type": "code",
   "execution_count": 1,
   "id": "353d1929-363b-4036-8136-b0625428b4b8",
   "metadata": {},
   "outputs": [],
   "source": [
    "# import code\n",
    "import re\n",
    "import pandas as pd\n",
    "pd.plotting.register_matplotlib_converters()\n",
    "import matplotlib.pyplot as plt\n",
    "%matplotlib inline\n",
    "import seaborn as sns\n",
    "\n",
    "from sklearn.pipeline import make_pipeline\n",
    "from sklearn.ensemble import RandomForestClassifier\n",
    "from sklearn.preprocessing import OrdinalEncoder\n",
    "from sklearn.compose import ColumnTransformer\n",
    "from sklearn.model_selection import cross_validate\n",
    "from sklearn.impute import KNNImputer\n",
    "from sklearn.impute import SimpleImputer\n",
    "from sklearn.dummy import DummyClassifier"
   ]
  },
  {
   "cell_type": "code",
   "execution_count": 2,
   "id": "33a9bf43-8b21-4d5d-84ee-5f3e881e65ad",
   "metadata": {},
   "outputs": [],
   "source": [
    "# load original data set into a dataframe\n",
    "data = pd.read_csv(\"cleaned_cope_data_randomized.csv\", dtype={'b_bstad_me_30_days_8': 'str', 'b_bstad_me_90_days_6': 'str', 'b_bstad_me_90_days_8': 'str'})"
   ]
  },
  {
   "cell_type": "code",
   "execution_count": 2,
   "id": "0cc4df12-eac8-4622-8005-58472454b435",
   "metadata": {},
   "outputs": [],
   "source": [
    "# alternatively, load preprocessed data sets into dataframes\n",
    "outcomes = pd.read_csv('outcomes.csv')\n",
    "predictors = pd.read_csv('predictors.csv')"
   ]
  },
  {
   "cell_type": "markdown",
   "id": "94b1dfcf-da90-44f1-af32-31190a8c7ee6",
   "metadata": {
    "tags": []
   },
   "source": [
    "## Original Data Set Info & Reduction"
   ]
  },
  {
   "cell_type": "code",
   "execution_count": 3,
   "id": "97fbab75-7302-4ed6-8e56-8e2d0ccebbd7",
   "metadata": {},
   "outputs": [
    {
     "name": "stdout",
     "output_type": "stream",
     "text": [
      "<class 'pandas.core.frame.DataFrame'>\n",
      "RangeIndex: 2452 entries, 0 to 2451\n",
      "Columns: 534 entries, b_start_date to b_covid_symptoms_na\n",
      "dtypes: float64(412), int64(59), object(63)\n",
      "memory usage: 10.0+ MB\n"
     ]
    }
   ],
   "source": [
    "# how many rows and columns in dataframe, can also use data.shape\n",
    "data.info()\n",
    "\n",
    "# to get more detail about specific range of columns\n",
    "# data.iloc[:,:10].info()"
   ]
  },
  {
   "cell_type": "code",
   "execution_count": 4,
   "id": "9e24a815-24aa-4ad1-94f5-c7f28dee5e32",
   "metadata": {},
   "outputs": [
    {
     "name": "stdout",
     "output_type": "stream",
     "text": [
      "<class 'pandas.core.frame.DataFrame'>\n",
      "RangeIndex: 2452 entries, 0 to 2451\n",
      "Data columns (total 18 columns):\n",
      " #   Column                  Non-Null Count  Dtype  \n",
      "---  ------                  --------------  -----  \n",
      " 0   b_uls_mean              2449 non-null   float64\n",
      " 1   b_cdi_mean              2452 non-null   float64\n",
      " 2   b_dem_sex               2452 non-null   object \n",
      " 3   b_dem_gender            2452 non-null   object \n",
      " 4   b_dem_orientation       2452 non-null   object \n",
      " 5   b_bads_mean             2451 non-null   float64\n",
      " 6   b_shs_mean              2452 non-null   float64\n",
      " 7   b_bhs_mean              2451 non-null   float64\n",
      " 8   b_aces_mean             2451 non-null   float64\n",
      " 9   b_mvps_mean             2450 non-null   float64\n",
      " 10  eds_events_mean         2449 non-null   float64\n",
      " 11  b_gad_mean              2447 non-null   float64\n",
      " 12  b_sitbi_2               2451 non-null   float64\n",
      " 13  b_sitbi_8               2452 non-null   int64  \n",
      " 14  b_sitbi_nssi_year_1     1604 non-null   float64\n",
      " 15  b_sitbi_si_year_1       1955 non-null   float64\n",
      " 16  b_sitbi_attempt_year_1  774 non-null    float64\n",
      " 17  b_sitbi_17              2452 non-null   int64  \n",
      "dtypes: float64(13), int64(2), object(3)\n",
      "memory usage: 344.9+ KB\n"
     ]
    }
   ],
   "source": [
    "# reduce to columns of interest\n",
    "# eed scale is named differently with no b_\n",
    "# data = data[['b_uls_mean', 'b_cdi_mean', 'b_dem_sex', 'b_dem_gender', 'b_dem_orientation', \n",
    "#             'b_bads_mean', 'b_shs_mean' , 'b_bhs_mean', 'b_aces_mean' , 'b_mvps_mean', \n",
    "#             'eds_events_mean', 'b_gad_mean', 'b_sitbi_2',  'b_sitbi_8', 'b_sitbi_si_month_1', \n",
    "#             'b_sitbi_nssi_month_1', 'b_sitbi_nssi_3months_1', 'b_sitbi_nssi_year_1', \n",
    "#             'b_sitbi_nssi_life_1','b_sitbi_si_3month_1', 'b_sitbi_si_year_1', \n",
    "#             'b_sitbi_si_life_1', 'b_sitbi_plan_3month_1', 'b_sitbi_plan_year_1', \n",
    "#             'b_sitbi_plan_life_1', 'b_sitbi_attempt_3months_1', 'b_sitbi_attempt_year_1', \n",
    "#             'b_sitbi_attempt_life_1', 'b_sitbi_11', 'b_sitbi_13', 'b_sitbi_16', 'b_sitbi_17', \n",
    "#             'b_sitbi_20']]\n",
    "\n",
    "# reduced outcomes version\n",
    "data = data[['b_uls_mean', 'b_cdi_mean', 'b_dem_sex', 'b_dem_gender', 'b_dem_orientation', \n",
    "             'b_bads_mean', 'b_shs_mean' , 'b_bhs_mean', 'b_aces_mean' , 'b_mvps_mean', \n",
    "             'eds_events_mean', 'b_gad_mean', 'b_sitbi_2',  'b_sitbi_8', \n",
    "             'b_sitbi_nssi_year_1', 'b_sitbi_si_year_1', 'b_sitbi_attempt_year_1', 'b_sitbi_17']]\n",
    "\n",
    "# more detail about columns of interest \n",
    "data.info() "
   ]
  },
  {
   "cell_type": "code",
   "execution_count": 7,
   "id": "566390c3-e3fd-4591-9f94-c33b14cf276a",
   "metadata": {},
   "outputs": [
    {
     "name": "stdout",
     "output_type": "stream",
     "text": [
      "<class 'pandas.core.frame.DataFrame'>\n",
      "RangeIndex: 2452 entries, 0 to 2451\n",
      "Data columns (total 18 columns):\n",
      " #   Column          Non-Null Count  Dtype  \n",
      "---  ------          --------------  -----  \n",
      " 0   loneliness      2449 non-null   float64\n",
      " 1   depression      2452 non-null   float64\n",
      " 2   sex             2452 non-null   object \n",
      " 3   gender          2452 non-null   object \n",
      " 4   orientation     2452 non-null   object \n",
      " 5   behav_act       2451 non-null   float64\n",
      " 6   hope            2452 non-null   float64\n",
      " 7   hopelessness    2451 non-null   float64\n",
      " 8   child_adverse   2451 non-null   float64\n",
      " 9   peer_vict       2450 non-null   float64\n",
      " 10  discrimination  2449 non-null   float64\n",
      " 11  anxiety         2447 non-null   float64\n",
      " 12  nssi_bin        2451 non-null   float64\n",
      " 13  si_bin          2452 non-null   int64  \n",
      " 14  nssi_year       1604 non-null   float64\n",
      " 15  si_year         1955 non-null   float64\n",
      " 16  attempt_year    774 non-null    float64\n",
      " 17  attempt_bin     2452 non-null   int64  \n",
      "dtypes: float64(13), int64(2), object(3)\n",
      "memory usage: 344.9+ KB\n"
     ]
    }
   ],
   "source": [
    "# give columns more intuitive names\n",
    "data.rename(columns = {'b_uls_mean':'loneliness', 'b_cdi_mean':'depression', 'b_dem_sex':'sex',\n",
    "                        'b_dem_gender':'gender', 'b_dem_orientation':'orientation', 'b_bads_mean':'behav_act',\n",
    "                        'b_shs_mean':'hope', 'b_bhs_mean':'hopelessness', 'b_aces_mean':'child_adverse',\n",
    "                        'b_mvps_mean':'peer_vict', 'eds_events_mean':'discrimination', \n",
    "                        'b_gad_mean':'anxiety', 'b_sitbi_2':'nssi_bin', 'b_sitbi_8':'si_bin',\n",
    "                        'b_sitbi_nssi_year_1':'nssi_year', 'b_sitbi_si_year_1':'si_year',\n",
    "                        'b_sitbi_attempt_year_1':'attempt_year', 'b_sitbi_17':'attempt_bin'}, inplace = True)\n",
    "\n",
    "data.info()"
   ]
  },
  {
   "cell_type": "code",
   "execution_count": 8,
   "id": "10f3dcb9",
   "metadata": {},
   "outputs": [
    {
     "data": {
      "text/plain": [
       "loneliness           3\n",
       "depression           0\n",
       "sex                  0\n",
       "gender               0\n",
       "orientation          0\n",
       "behav_act            1\n",
       "hope                 0\n",
       "hopelessness         1\n",
       "child_adverse        1\n",
       "peer_vict            2\n",
       "discrimination       3\n",
       "anxiety              5\n",
       "nssi_bin             1\n",
       "si_bin               0\n",
       "nssi_year          848\n",
       "si_year            497\n",
       "attempt_year      1678\n",
       "attempt_bin          0\n",
       "dtype: int64"
      ]
     },
     "execution_count": 8,
     "metadata": {},
     "output_type": "execute_result"
    }
   ],
   "source": [
    "# missing data counts\n",
    "missing_values_count = data.isnull().sum()\n",
    "missing_values_count"
   ]
  },
  {
   "cell_type": "code",
   "execution_count": 9,
   "id": "f5eb8c00-56eb-4cbb-b1da-0b6fc01ce347",
   "metadata": {},
   "outputs": [
    {
     "data": {
      "text/plain": [
       "(2451, 18)"
      ]
     },
     "execution_count": 9,
     "metadata": {},
     "output_type": "execute_result"
    }
   ],
   "source": [
    "# delete whole samples missing values for b_sitbi_2, b_sitbi_8, b_sitbi_13, b_sitbi_17\n",
    "# these are yes/no target variables with branching logic for whether other target variables were presented\n",
    "# only b_sitbi_2 has a single missing value\n",
    "data = data[data['nssi_bin'].notna()]\n",
    "\n",
    "# confirming drop of 1 sample\n",
    "data.shape"
   ]
  },
  {
   "cell_type": "code",
   "execution_count": 10,
   "id": "ae9ffb0c-b93d-4f98-b0c0-d1cba7c837ae",
   "metadata": {},
   "outputs": [
    {
     "name": "stdout",
     "output_type": "stream",
     "text": [
      "<class 'pandas.core.frame.DataFrame'>\n",
      "Int64Index: 2451 entries, 0 to 2451\n",
      "Data columns (total 6 columns):\n",
      " #   Column        Non-Null Count  Dtype  \n",
      "---  ------        --------------  -----  \n",
      " 0   nssi_bin      2451 non-null   float64\n",
      " 1   si_bin        2451 non-null   float64\n",
      " 2   nssi_year     2451 non-null   float64\n",
      " 3   si_year       2451 non-null   float64\n",
      " 4   attempt_year  2451 non-null   float64\n",
      " 5   attempt_bin   2451 non-null   float64\n",
      "dtypes: float64(6)\n",
      "memory usage: 134.0 KB\n"
     ]
    }
   ],
   "source": [
    "# separate output variables\n",
    "outcomes = data[['nssi_bin', 'si_bin', 'nssi_year', 'si_year', 'attempt_year', 'attempt_bin']].copy()\n",
    "\n",
    "# replace missing values with zeros, which is appropriate for these variables\n",
    "imp_zeros = SimpleImputer(strategy='constant', fill_value=0)\n",
    "outcomes.iloc[:,:] = imp_zeros.fit_transform(outcomes)\n",
    "\n",
    "# save outcomes to csv to bypass this preprocessing in the future \n",
    "outcomes.to_csv('outcomes.csv', index=False)\n",
    "\n",
    "outcomes.info()"
   ]
  },
  {
   "cell_type": "code",
   "execution_count": 11,
   "id": "3f085e96-7723-4cb4-a503-7f6a44e4f29d",
   "metadata": {},
   "outputs": [],
   "source": [
    "# separate predictor variables\n",
    "predictors = data[['loneliness', 'depression', 'sex', 'gender', 'orientation', 'behav_act',\n",
    "                   'hope', 'hopelessness', 'child_adverse', 'peer_vict', 'discrimination', \n",
    "                   'anxiety']].copy()"
   ]
  },
  {
   "cell_type": "code",
   "execution_count": 12,
   "id": "e34f44b8-c518-45d5-a6ac-90786d9fa68d",
   "metadata": {},
   "outputs": [
    {
     "data": {
      "text/html": [
       "<div>\n",
       "<style scoped>\n",
       "    .dataframe tbody tr th:only-of-type {\n",
       "        vertical-align: middle;\n",
       "    }\n",
       "\n",
       "    .dataframe tbody tr th {\n",
       "        vertical-align: top;\n",
       "    }\n",
       "\n",
       "    .dataframe thead th {\n",
       "        text-align: right;\n",
       "    }\n",
       "</style>\n",
       "<table border=\"1\" class=\"dataframe\">\n",
       "  <thead>\n",
       "    <tr style=\"text-align: right;\">\n",
       "      <th></th>\n",
       "      <th>loneliness</th>\n",
       "      <th>depression</th>\n",
       "      <th>sex</th>\n",
       "      <th>gender</th>\n",
       "      <th>orientation</th>\n",
       "      <th>behav_act</th>\n",
       "      <th>hope</th>\n",
       "      <th>hopelessness</th>\n",
       "      <th>child_adverse</th>\n",
       "      <th>peer_vict</th>\n",
       "      <th>discrimination</th>\n",
       "      <th>anxiety</th>\n",
       "    </tr>\n",
       "  </thead>\n",
       "  <tbody>\n",
       "    <tr>\n",
       "      <th>0</th>\n",
       "      <td>2.25</td>\n",
       "      <td>1.750000</td>\n",
       "      <td>Female</td>\n",
       "      <td>Woman/Girl</td>\n",
       "      <td>Heterosexual/Straight</td>\n",
       "      <td>2.888889</td>\n",
       "      <td>2.166667</td>\n",
       "      <td>2.75</td>\n",
       "      <td>0.6</td>\n",
       "      <td>0.8750</td>\n",
       "      <td>2.9</td>\n",
       "      <td>2.428571</td>\n",
       "    </tr>\n",
       "    <tr>\n",
       "      <th>1</th>\n",
       "      <td>1.90</td>\n",
       "      <td>1.166667</td>\n",
       "      <td>Female</td>\n",
       "      <td>Woman/Girl</td>\n",
       "      <td>Bisexual</td>\n",
       "      <td>3.555556</td>\n",
       "      <td>3.833333</td>\n",
       "      <td>1.75</td>\n",
       "      <td>0.4</td>\n",
       "      <td>0.0000</td>\n",
       "      <td>3.4</td>\n",
       "      <td>3.142857</td>\n",
       "    </tr>\n",
       "    <tr>\n",
       "      <th>2</th>\n",
       "      <td>1.80</td>\n",
       "      <td>0.750000</td>\n",
       "      <td>Male</td>\n",
       "      <td>Not sure</td>\n",
       "      <td>Queer</td>\n",
       "      <td>2.444444</td>\n",
       "      <td>2.833333</td>\n",
       "      <td>1.75</td>\n",
       "      <td>0.8</td>\n",
       "      <td>0.2500</td>\n",
       "      <td>3.2</td>\n",
       "      <td>2.571429</td>\n",
       "    </tr>\n",
       "    <tr>\n",
       "      <th>3</th>\n",
       "      <td>2.15</td>\n",
       "      <td>0.916667</td>\n",
       "      <td>Female</td>\n",
       "      <td>Woman/Girl</td>\n",
       "      <td>Heterosexual/Straight</td>\n",
       "      <td>3.111111</td>\n",
       "      <td>4.333333</td>\n",
       "      <td>1.75</td>\n",
       "      <td>0.8</td>\n",
       "      <td>0.3125</td>\n",
       "      <td>2.3</td>\n",
       "      <td>2.857143</td>\n",
       "    </tr>\n",
       "    <tr>\n",
       "      <th>4</th>\n",
       "      <td>1.70</td>\n",
       "      <td>0.583333</td>\n",
       "      <td>Female</td>\n",
       "      <td>Woman/Girl</td>\n",
       "      <td>Heterosexual/Straight</td>\n",
       "      <td>2.222222</td>\n",
       "      <td>3.333333</td>\n",
       "      <td>1.00</td>\n",
       "      <td>0.2</td>\n",
       "      <td>0.0000</td>\n",
       "      <td>1.6</td>\n",
       "      <td>1.571429</td>\n",
       "    </tr>\n",
       "  </tbody>\n",
       "</table>\n",
       "</div>"
      ],
      "text/plain": [
       "   loneliness  depression     sex      gender            orientation  \\\n",
       "0        2.25    1.750000  Female  Woman/Girl  Heterosexual/Straight   \n",
       "1        1.90    1.166667  Female  Woman/Girl               Bisexual   \n",
       "2        1.80    0.750000    Male    Not sure                  Queer   \n",
       "3        2.15    0.916667  Female  Woman/Girl  Heterosexual/Straight   \n",
       "4        1.70    0.583333  Female  Woman/Girl  Heterosexual/Straight   \n",
       "\n",
       "   behav_act      hope  hopelessness  child_adverse  peer_vict  \\\n",
       "0   2.888889  2.166667          2.75            0.6     0.8750   \n",
       "1   3.555556  3.833333          1.75            0.4     0.0000   \n",
       "2   2.444444  2.833333          1.75            0.8     0.2500   \n",
       "3   3.111111  4.333333          1.75            0.8     0.3125   \n",
       "4   2.222222  3.333333          1.00            0.2     0.0000   \n",
       "\n",
       "   discrimination   anxiety  \n",
       "0             2.9  2.428571  \n",
       "1             3.4  3.142857  \n",
       "2             3.2  2.571429  \n",
       "3             2.3  2.857143  \n",
       "4             1.6  1.571429  "
      ]
     },
     "execution_count": 12,
     "metadata": {},
     "output_type": "execute_result"
    }
   ],
   "source": [
    "# preview predictors\n",
    "predictors.head() "
   ]
  },
  {
   "cell_type": "code",
   "execution_count": 13,
   "id": "2f8bebde-22a0-4392-91fa-4fb15805f22a",
   "metadata": {},
   "outputs": [
    {
     "name": "stdout",
     "output_type": "stream",
     "text": [
      "41 unique values in column loneliness\n",
      "27 unique values in column depression\n",
      "4 unique values in column sex\n",
      "189 unique values in column gender\n",
      "10 unique values in column orientation\n",
      "48 unique values in column behav_act\n",
      "45 unique values in column hope\n",
      "14 unique values in column hopelessness\n",
      "9 unique values in column child_adverse\n",
      "36 unique values in column peer_vict\n",
      "51 unique values in column discrimination\n",
      "23 unique values in column anxiety\n"
     ]
    }
   ],
   "source": [
    "# how many unique values per feature\n",
    "for c in predictors.columns:\n",
    "    print(len(data[c].unique()), \"unique values in column\", c)"
   ]
  },
  {
   "cell_type": "code",
   "execution_count": 14,
   "id": "065cc534-e5b4-48c3-9659-fe22d2fc9fd3",
   "metadata": {},
   "outputs": [
    {
     "data": {
      "text/plain": [
       "Woman/Girl                                                                                                      1383\n",
       "Man/Boy                                                                                                          194\n",
       "Nonbinary                                                                                                        138\n",
       "Not sure                                                                                                          78\n",
       "Man/Boy,Transgender,Female to male transgender/FTM,Trans male/Trans masculine                                     71\n",
       "                                                                                                                ... \n",
       "Woman/Girl,Gender expansive,Androgynous                                                                            1\n",
       "Female to male transgender/FTM,Androgynous,Nonbinary                                                               1\n",
       "Man/Boy,Transgender,Female to male transgender/FTM,Trans male/Trans masculine,Genderqueer,Nonbinary,Not sure       1\n",
       "Woman/Girl,Androgynous,Two-spirited,Not sure                                                                       1\n",
       "Trans male/Trans masculine,Genderqueer,Nonbinary                                                                   1\n",
       "Name: gender, Length: 189, dtype: int64"
      ]
     },
     "execution_count": 14,
     "metadata": {},
     "output_type": "execute_result"
    }
   ],
   "source": [
    "# look at gender values, which need to be recoded\n",
    "predictors['gender'].value_counts()"
   ]
  },
  {
   "cell_type": "code",
   "execution_count": 15,
   "id": "ac2fb044-b858-4bc5-95ef-374b101c6a6d",
   "metadata": {},
   "outputs": [],
   "source": [
    "# recode gender values into 3 categories\n",
    "predictors.loc[predictors['gender'] == 'Woman/Girl', 'gender'] = 'woman_only'\n",
    "predictors.loc[predictors['gender'] == 'Man/Boy', 'gender'] = 'man_only'\n",
    "predictors.loc[(predictors['gender'] != 'man_only') & (predictors['gender'] != 'woman_only'), 'gender'] = 'gender_diverse'"
   ]
  },
  {
   "cell_type": "code",
   "execution_count": 16,
   "id": "ba1945d5-e523-44a2-8563-7097db4d70cc",
   "metadata": {},
   "outputs": [
    {
     "data": {
      "text/plain": [
       "woman_only        1383\n",
       "gender_diverse     874\n",
       "man_only           194\n",
       "Name: gender, dtype: int64"
      ]
     },
     "execution_count": 16,
     "metadata": {},
     "output_type": "execute_result"
    }
   ],
   "source": [
    "# verify recoding results\n",
    "predictors['gender'].value_counts()"
   ]
  },
  {
   "cell_type": "code",
   "execution_count": 17,
   "id": "b83e1cd4-330a-4df1-95e7-8ec5b7458723",
   "metadata": {},
   "outputs": [
    {
     "name": "stdout",
     "output_type": "stream",
     "text": [
      "<class 'pandas.core.frame.DataFrame'>\n",
      "Int64Index: 2451 entries, 0 to 2451\n",
      "Data columns (total 12 columns):\n",
      " #   Column          Non-Null Count  Dtype  \n",
      "---  ------          --------------  -----  \n",
      " 0   loneliness      2448 non-null   float64\n",
      " 1   depression      2451 non-null   float64\n",
      " 2   sex             2451 non-null   object \n",
      " 3   gender          2451 non-null   object \n",
      " 4   orientation     2451 non-null   object \n",
      " 5   behav_act       2450 non-null   float64\n",
      " 6   hope            2451 non-null   float64\n",
      " 7   hopelessness    2450 non-null   float64\n",
      " 8   child_adverse   2450 non-null   float64\n",
      " 9   peer_vict       2449 non-null   float64\n",
      " 10  discrimination  2448 non-null   float64\n",
      " 11  anxiety         2446 non-null   float64\n",
      "dtypes: float64(9), object(3)\n",
      "memory usage: 248.9+ KB\n"
     ]
    }
   ],
   "source": [
    "predictors.info()"
   ]
  },
  {
   "cell_type": "code",
   "execution_count": 18,
   "id": "5efe05c3-adb7-447f-9f09-0c5566f0564a",
   "metadata": {},
   "outputs": [
    {
     "name": "stdout",
     "output_type": "stream",
     "text": [
      "The percentage of missing data is: 0.05439956480348157\n"
     ]
    }
   ],
   "source": [
    "print('The percentage of missing data is: ' \n",
    "      f'{(predictors.isnull().sum().sum() * 100) / (predictors.shape[0] * predictors.shape[1])}') "
   ]
  },
  {
   "cell_type": "code",
   "execution_count": 19,
   "id": "9bc719f4-9e95-43ab-bf1e-c7dcd67de5c8",
   "metadata": {},
   "outputs": [],
   "source": [
    "# create a view of the numeric predictors for imputation\n",
    "numeric_predictors = predictors.select_dtypes(include=['float64'])"
   ]
  },
  {
   "cell_type": "code",
   "execution_count": 20,
   "id": "6f002e79-ef34-427d-8581-21f8407d1e5d",
   "metadata": {},
   "outputs": [],
   "source": [
    "# replace missing values (very small number of missing values here) using nearest neighbors based on available features\n",
    "imputer = KNNImputer(n_neighbors=5)\n",
    "numeric_predictors.iloc[:,:] = imputer.fit_transform(numeric_predictors)"
   ]
  },
  {
   "cell_type": "code",
   "execution_count": 21,
   "id": "25a409c0-b3a3-45bc-9e2f-fb4da9c31c35",
   "metadata": {},
   "outputs": [
    {
     "name": "stdout",
     "output_type": "stream",
     "text": [
      "<class 'pandas.core.frame.DataFrame'>\n",
      "Int64Index: 2451 entries, 0 to 2451\n",
      "Data columns (total 12 columns):\n",
      " #   Column          Non-Null Count  Dtype  \n",
      "---  ------          --------------  -----  \n",
      " 0   loneliness      2451 non-null   float64\n",
      " 1   depression      2451 non-null   float64\n",
      " 2   sex             2451 non-null   object \n",
      " 3   gender          2451 non-null   object \n",
      " 4   orientation     2451 non-null   object \n",
      " 5   behav_act       2451 non-null   float64\n",
      " 6   hope            2451 non-null   float64\n",
      " 7   hopelessness    2451 non-null   float64\n",
      " 8   child_adverse   2451 non-null   float64\n",
      " 9   peer_vict       2451 non-null   float64\n",
      " 10  discrimination  2451 non-null   float64\n",
      " 11  anxiety         2451 non-null   float64\n",
      "dtypes: float64(9), object(3)\n",
      "memory usage: 248.9+ KB\n"
     ]
    }
   ],
   "source": [
    "# save outcomes to csv to bypass this preprocessing in the future \n",
    "predictors.to_csv('predictors.csv', index=False)\n",
    "\n",
    "predictors.info()"
   ]
  },
  {
   "cell_type": "markdown",
   "id": "dc396aee-d203-4cfa-ae45-5cba25c544ef",
   "metadata": {},
   "source": [
    "## Subset Data Set for Analysis"
   ]
  },
  {
   "cell_type": "code",
   "execution_count": 43,
   "id": "3275adb9-aa33-4cb7-bfd4-19c01d4ac182",
   "metadata": {},
   "outputs": [],
   "source": [
    "# define target variable and extract it from the data\n",
    "target_column = \"b_sitbi_2\"\n",
    "target = data[target_column]"
   ]
  },
  {
   "cell_type": "code",
   "execution_count": 44,
   "id": "f3befa4b-3d97-4463-b6c8-2236e2e0d889",
   "metadata": {},
   "outputs": [
    {
     "data": {
      "text/plain": [
       "1.0    1653\n",
       "0.0     798\n",
       "Name: b_sitbi_2, dtype: int64"
      ]
     },
     "execution_count": 44,
     "metadata": {},
     "output_type": "execute_result"
    }
   ],
   "source": [
    "# check balance of target\n",
    "target.value_counts()"
   ]
  },
  {
   "cell_type": "code",
   "execution_count": 3,
   "id": "428ffbbd-689b-4cf3-9599-bd1c02d00414",
   "metadata": {},
   "outputs": [],
   "source": [
    "# separately extract numeric and categorical data of interest\n",
    "numeric_columns = ['b_uls_mean', 'b_cdi_mean', 'b_bads_mean', 'b_shs_mean' , 'b_bhs_mean', 'b_aces_mean' , 'b_mvps_mean',\n",
    "'eds_events_mean', 'b_gad_mean']\n",
    "data_numeric = data[numeric_columns]\n",
    "categorical_columns = ['b_dem_sex', 'b_dem_gender', 'b_dem_orientation']\n",
    "data_categorical = data[categorical_columns]"
   ]
  },
  {
   "cell_type": "code",
   "execution_count": 4,
   "id": "39fbacb9-40a3-4f21-b19a-a2d1ced33b0d",
   "metadata": {},
   "outputs": [],
   "source": [
    "# create data set with only variables of interest\n",
    "model_data = pd.concat([data_numeric, data_categorical, target], axis=1)"
   ]
  },
  {
   "cell_type": "code",
   "execution_count": 5,
   "id": "b8a7108b-11f4-4ae1-925a-d5ad16465145",
   "metadata": {},
   "outputs": [
    {
     "data": {
      "text/html": [
       "<div>\n",
       "<style scoped>\n",
       "    .dataframe tbody tr th:only-of-type {\n",
       "        vertical-align: middle;\n",
       "    }\n",
       "\n",
       "    .dataframe tbody tr th {\n",
       "        vertical-align: top;\n",
       "    }\n",
       "\n",
       "    .dataframe thead th {\n",
       "        text-align: right;\n",
       "    }\n",
       "</style>\n",
       "<table border=\"1\" class=\"dataframe\">\n",
       "  <thead>\n",
       "    <tr style=\"text-align: right;\">\n",
       "      <th></th>\n",
       "      <th>b_uls_mean</th>\n",
       "      <th>b_cdi_mean</th>\n",
       "      <th>b_bads_mean</th>\n",
       "      <th>b_shs_mean</th>\n",
       "      <th>b_bhs_mean</th>\n",
       "      <th>b_aces_mean</th>\n",
       "      <th>b_mvps_mean</th>\n",
       "      <th>eds_events_mean</th>\n",
       "      <th>b_gad_mean</th>\n",
       "      <th>b_dem_sex</th>\n",
       "      <th>b_dem_gender</th>\n",
       "      <th>b_dem_orientation</th>\n",
       "    </tr>\n",
       "  </thead>\n",
       "  <tbody>\n",
       "    <tr>\n",
       "      <th>0</th>\n",
       "      <td>2.25</td>\n",
       "      <td>1.750000</td>\n",
       "      <td>2.888889</td>\n",
       "      <td>2.166667</td>\n",
       "      <td>2.75</td>\n",
       "      <td>0.6</td>\n",
       "      <td>0.8750</td>\n",
       "      <td>2.9</td>\n",
       "      <td>2.428571</td>\n",
       "      <td>Female</td>\n",
       "      <td>Woman/Girl</td>\n",
       "      <td>Heterosexual/Straight</td>\n",
       "    </tr>\n",
       "    <tr>\n",
       "      <th>1</th>\n",
       "      <td>1.90</td>\n",
       "      <td>1.166667</td>\n",
       "      <td>3.555556</td>\n",
       "      <td>3.833333</td>\n",
       "      <td>1.75</td>\n",
       "      <td>0.4</td>\n",
       "      <td>0.0000</td>\n",
       "      <td>3.4</td>\n",
       "      <td>3.142857</td>\n",
       "      <td>Female</td>\n",
       "      <td>Woman/Girl</td>\n",
       "      <td>Bisexual</td>\n",
       "    </tr>\n",
       "    <tr>\n",
       "      <th>2</th>\n",
       "      <td>1.80</td>\n",
       "      <td>0.750000</td>\n",
       "      <td>2.444444</td>\n",
       "      <td>2.833333</td>\n",
       "      <td>1.75</td>\n",
       "      <td>0.8</td>\n",
       "      <td>0.2500</td>\n",
       "      <td>3.2</td>\n",
       "      <td>2.571429</td>\n",
       "      <td>Male</td>\n",
       "      <td>Not sure</td>\n",
       "      <td>Queer</td>\n",
       "    </tr>\n",
       "    <tr>\n",
       "      <th>3</th>\n",
       "      <td>2.15</td>\n",
       "      <td>0.916667</td>\n",
       "      <td>3.111111</td>\n",
       "      <td>4.333333</td>\n",
       "      <td>1.75</td>\n",
       "      <td>0.8</td>\n",
       "      <td>0.3125</td>\n",
       "      <td>2.3</td>\n",
       "      <td>2.857143</td>\n",
       "      <td>Female</td>\n",
       "      <td>Woman/Girl</td>\n",
       "      <td>Heterosexual/Straight</td>\n",
       "    </tr>\n",
       "    <tr>\n",
       "      <th>4</th>\n",
       "      <td>1.70</td>\n",
       "      <td>0.583333</td>\n",
       "      <td>2.222222</td>\n",
       "      <td>3.333333</td>\n",
       "      <td>1.00</td>\n",
       "      <td>0.2</td>\n",
       "      <td>0.0000</td>\n",
       "      <td>1.6</td>\n",
       "      <td>1.571429</td>\n",
       "      <td>Female</td>\n",
       "      <td>Woman/Girl</td>\n",
       "      <td>Heterosexual/Straight</td>\n",
       "    </tr>\n",
       "    <tr>\n",
       "      <th>...</th>\n",
       "      <td>...</td>\n",
       "      <td>...</td>\n",
       "      <td>...</td>\n",
       "      <td>...</td>\n",
       "      <td>...</td>\n",
       "      <td>...</td>\n",
       "      <td>...</td>\n",
       "      <td>...</td>\n",
       "      <td>...</td>\n",
       "      <td>...</td>\n",
       "      <td>...</td>\n",
       "      <td>...</td>\n",
       "    </tr>\n",
       "    <tr>\n",
       "      <th>2447</th>\n",
       "      <td>2.05</td>\n",
       "      <td>1.083333</td>\n",
       "      <td>3.111111</td>\n",
       "      <td>3.000000</td>\n",
       "      <td>2.25</td>\n",
       "      <td>0.4</td>\n",
       "      <td>0.5000</td>\n",
       "      <td>2.6</td>\n",
       "      <td>3.142857</td>\n",
       "      <td>Female</td>\n",
       "      <td>Other (please specify)</td>\n",
       "      <td>Asexual</td>\n",
       "    </tr>\n",
       "    <tr>\n",
       "      <th>2448</th>\n",
       "      <td>1.95</td>\n",
       "      <td>0.666667</td>\n",
       "      <td>3.444444</td>\n",
       "      <td>4.000000</td>\n",
       "      <td>0.50</td>\n",
       "      <td>0.6</td>\n",
       "      <td>0.2500</td>\n",
       "      <td>1.0</td>\n",
       "      <td>2.285714</td>\n",
       "      <td>Female</td>\n",
       "      <td>Woman/Girl</td>\n",
       "      <td>Heterosexual/Straight</td>\n",
       "    </tr>\n",
       "    <tr>\n",
       "      <th>2449</th>\n",
       "      <td>1.90</td>\n",
       "      <td>1.500000</td>\n",
       "      <td>3.222222</td>\n",
       "      <td>2.000000</td>\n",
       "      <td>2.75</td>\n",
       "      <td>1.0</td>\n",
       "      <td>0.1250</td>\n",
       "      <td>2.9</td>\n",
       "      <td>3.142857</td>\n",
       "      <td>Female</td>\n",
       "      <td>Transgender,Female to male transgender/FTM,Tra...</td>\n",
       "      <td>Unsure/Questioning</td>\n",
       "    </tr>\n",
       "    <tr>\n",
       "      <th>2450</th>\n",
       "      <td>2.10</td>\n",
       "      <td>1.750000</td>\n",
       "      <td>2.000000</td>\n",
       "      <td>1.833333</td>\n",
       "      <td>2.00</td>\n",
       "      <td>1.0</td>\n",
       "      <td>1.0625</td>\n",
       "      <td>3.0</td>\n",
       "      <td>3.571429</td>\n",
       "      <td>Male</td>\n",
       "      <td>Man/Boy</td>\n",
       "      <td>Bisexual</td>\n",
       "    </tr>\n",
       "    <tr>\n",
       "      <th>2451</th>\n",
       "      <td>2.05</td>\n",
       "      <td>1.416667</td>\n",
       "      <td>2.666667</td>\n",
       "      <td>2.500000</td>\n",
       "      <td>1.75</td>\n",
       "      <td>0.8</td>\n",
       "      <td>0.4375</td>\n",
       "      <td>3.0</td>\n",
       "      <td>2.285714</td>\n",
       "      <td>Female</td>\n",
       "      <td>Woman/Girl</td>\n",
       "      <td>Heterosexual/Straight</td>\n",
       "    </tr>\n",
       "  </tbody>\n",
       "</table>\n",
       "<p>2451 rows × 12 columns</p>\n",
       "</div>"
      ],
      "text/plain": [
       "      b_uls_mean  b_cdi_mean  b_bads_mean  b_shs_mean  b_bhs_mean  \\\n",
       "0           2.25    1.750000     2.888889    2.166667        2.75   \n",
       "1           1.90    1.166667     3.555556    3.833333        1.75   \n",
       "2           1.80    0.750000     2.444444    2.833333        1.75   \n",
       "3           2.15    0.916667     3.111111    4.333333        1.75   \n",
       "4           1.70    0.583333     2.222222    3.333333        1.00   \n",
       "...          ...         ...          ...         ...         ...   \n",
       "2447        2.05    1.083333     3.111111    3.000000        2.25   \n",
       "2448        1.95    0.666667     3.444444    4.000000        0.50   \n",
       "2449        1.90    1.500000     3.222222    2.000000        2.75   \n",
       "2450        2.10    1.750000     2.000000    1.833333        2.00   \n",
       "2451        2.05    1.416667     2.666667    2.500000        1.75   \n",
       "\n",
       "      b_aces_mean  b_mvps_mean  eds_events_mean  b_gad_mean b_dem_sex  \\\n",
       "0             0.6       0.8750              2.9    2.428571    Female   \n",
       "1             0.4       0.0000              3.4    3.142857    Female   \n",
       "2             0.8       0.2500              3.2    2.571429      Male   \n",
       "3             0.8       0.3125              2.3    2.857143    Female   \n",
       "4             0.2       0.0000              1.6    1.571429    Female   \n",
       "...           ...          ...              ...         ...       ...   \n",
       "2447          0.4       0.5000              2.6    3.142857    Female   \n",
       "2448          0.6       0.2500              1.0    2.285714    Female   \n",
       "2449          1.0       0.1250              2.9    3.142857    Female   \n",
       "2450          1.0       1.0625              3.0    3.571429      Male   \n",
       "2451          0.8       0.4375              3.0    2.285714    Female   \n",
       "\n",
       "                                           b_dem_gender      b_dem_orientation  \n",
       "0                                            Woman/Girl  Heterosexual/Straight  \n",
       "1                                            Woman/Girl               Bisexual  \n",
       "2                                              Not sure                  Queer  \n",
       "3                                            Woman/Girl  Heterosexual/Straight  \n",
       "4                                            Woman/Girl  Heterosexual/Straight  \n",
       "...                                                 ...                    ...  \n",
       "2447                             Other (please specify)                Asexual  \n",
       "2448                                         Woman/Girl  Heterosexual/Straight  \n",
       "2449  Transgender,Female to male transgender/FTM,Tra...     Unsure/Questioning  \n",
       "2450                                            Man/Boy               Bisexual  \n",
       "2451                                         Woman/Girl  Heterosexual/Straight  \n",
       "\n",
       "[2451 rows x 12 columns]"
      ]
     },
     "execution_count": 5,
     "metadata": {},
     "output_type": "execute_result"
    }
   ],
   "source": [
    "# drop samples missing the target\n",
    "model_data = model_data[model_data['b_sitbi_2'].notna()]\n",
    "target = model_data[target_column]\n",
    "model_data.drop(columns = [target_column])"
   ]
  },
  {
   "cell_type": "code",
   "execution_count": 19,
   "id": "83c7bfd5-36d4-427d-a5e3-961984aa4864",
   "metadata": {},
   "outputs": [
    {
     "data": {
      "text/html": [
       "<div>\n",
       "<style scoped>\n",
       "    .dataframe tbody tr th:only-of-type {\n",
       "        vertical-align: middle;\n",
       "    }\n",
       "\n",
       "    .dataframe tbody tr th {\n",
       "        vertical-align: top;\n",
       "    }\n",
       "\n",
       "    .dataframe thead th {\n",
       "        text-align: right;\n",
       "    }\n",
       "</style>\n",
       "<table border=\"1\" class=\"dataframe\">\n",
       "  <thead>\n",
       "    <tr style=\"text-align: right;\">\n",
       "      <th></th>\n",
       "      <th>b_uls_mean</th>\n",
       "      <th>b_cdi_mean</th>\n",
       "      <th>b_bads_mean</th>\n",
       "      <th>b_shs_mean</th>\n",
       "      <th>b_bhs_mean</th>\n",
       "      <th>b_aces_mean</th>\n",
       "      <th>b_mvps_mean</th>\n",
       "      <th>eds_events_mean</th>\n",
       "      <th>b_gad_mean</th>\n",
       "      <th>b_dem_sex</th>\n",
       "      <th>b_dem_gender</th>\n",
       "      <th>b_dem_orientation</th>\n",
       "    </tr>\n",
       "  </thead>\n",
       "  <tbody>\n",
       "    <tr>\n",
       "      <th>0</th>\n",
       "      <td>2.25</td>\n",
       "      <td>1.750000</td>\n",
       "      <td>2.888889</td>\n",
       "      <td>2.166667</td>\n",
       "      <td>2.75</td>\n",
       "      <td>0.6</td>\n",
       "      <td>0.8750</td>\n",
       "      <td>2.9</td>\n",
       "      <td>2.428571</td>\n",
       "      <td>Female</td>\n",
       "      <td>Woman/Girl</td>\n",
       "      <td>Heterosexual/Straight</td>\n",
       "    </tr>\n",
       "    <tr>\n",
       "      <th>1</th>\n",
       "      <td>1.90</td>\n",
       "      <td>1.166667</td>\n",
       "      <td>3.555556</td>\n",
       "      <td>3.833333</td>\n",
       "      <td>1.75</td>\n",
       "      <td>0.4</td>\n",
       "      <td>0.0000</td>\n",
       "      <td>3.4</td>\n",
       "      <td>3.142857</td>\n",
       "      <td>Female</td>\n",
       "      <td>Woman/Girl</td>\n",
       "      <td>Bisexual</td>\n",
       "    </tr>\n",
       "    <tr>\n",
       "      <th>2</th>\n",
       "      <td>1.80</td>\n",
       "      <td>0.750000</td>\n",
       "      <td>2.444444</td>\n",
       "      <td>2.833333</td>\n",
       "      <td>1.75</td>\n",
       "      <td>0.8</td>\n",
       "      <td>0.2500</td>\n",
       "      <td>3.2</td>\n",
       "      <td>2.571429</td>\n",
       "      <td>Male</td>\n",
       "      <td>Not sure</td>\n",
       "      <td>Queer</td>\n",
       "    </tr>\n",
       "    <tr>\n",
       "      <th>3</th>\n",
       "      <td>2.15</td>\n",
       "      <td>0.916667</td>\n",
       "      <td>3.111111</td>\n",
       "      <td>4.333333</td>\n",
       "      <td>1.75</td>\n",
       "      <td>0.8</td>\n",
       "      <td>0.3125</td>\n",
       "      <td>2.3</td>\n",
       "      <td>2.857143</td>\n",
       "      <td>Female</td>\n",
       "      <td>Woman/Girl</td>\n",
       "      <td>Heterosexual/Straight</td>\n",
       "    </tr>\n",
       "    <tr>\n",
       "      <th>4</th>\n",
       "      <td>1.70</td>\n",
       "      <td>0.583333</td>\n",
       "      <td>2.222222</td>\n",
       "      <td>3.333333</td>\n",
       "      <td>1.00</td>\n",
       "      <td>0.2</td>\n",
       "      <td>0.0000</td>\n",
       "      <td>1.6</td>\n",
       "      <td>1.571429</td>\n",
       "      <td>Female</td>\n",
       "      <td>Woman/Girl</td>\n",
       "      <td>Heterosexual/Straight</td>\n",
       "    </tr>\n",
       "  </tbody>\n",
       "</table>\n",
       "</div>"
      ],
      "text/plain": [
       "   b_uls_mean  b_cdi_mean  b_bads_mean  b_shs_mean  b_bhs_mean  b_aces_mean  \\\n",
       "0        2.25    1.750000     2.888889    2.166667        2.75          0.6   \n",
       "1        1.90    1.166667     3.555556    3.833333        1.75          0.4   \n",
       "2        1.80    0.750000     2.444444    2.833333        1.75          0.8   \n",
       "3        2.15    0.916667     3.111111    4.333333        1.75          0.8   \n",
       "4        1.70    0.583333     2.222222    3.333333        1.00          0.2   \n",
       "\n",
       "   b_mvps_mean  eds_events_mean  b_gad_mean b_dem_sex b_dem_gender  \\\n",
       "0       0.8750              2.9    2.428571    Female   Woman/Girl   \n",
       "1       0.0000              3.4    3.142857    Female   Woman/Girl   \n",
       "2       0.2500              3.2    2.571429      Male     Not sure   \n",
       "3       0.3125              2.3    2.857143    Female   Woman/Girl   \n",
       "4       0.0000              1.6    1.571429    Female   Woman/Girl   \n",
       "\n",
       "       b_dem_orientation  \n",
       "0  Heterosexual/Straight  \n",
       "1               Bisexual  \n",
       "2                  Queer  \n",
       "3  Heterosexual/Straight  \n",
       "4  Heterosexual/Straight  "
      ]
     },
     "execution_count": 19,
     "metadata": {},
     "output_type": "execute_result"
    }
   ],
   "source": [
    "model_data.head()"
   ]
  },
  {
   "cell_type": "markdown",
   "id": "7e39c3cb-bb39-49e5-945c-96f09ed0d591",
   "metadata": {},
   "source": [
    "## Exploring Data Set"
   ]
  },
  {
   "cell_type": "code",
   "execution_count": 22,
   "id": "3c30f40f-91f5-4e47-8ff8-9b79f7b7d675",
   "metadata": {},
   "outputs": [
    {
     "data": {
      "text/plain": [
       "<AxesSubplot:xlabel='anxiety', ylabel='Count'>"
      ]
     },
     "execution_count": 22,
     "metadata": {},
     "output_type": "execute_result"
    },
    {
     "data": {
      "image/png": "[encoded data removed]",
      "text/plain": [
       "<Figure size 1300x1000 with 9 Axes>"
      ]
     },
     "metadata": {},
     "output_type": "display_data"
    }
   ],
   "source": [
    "# histograms of numeric features\n",
    "fig, axes = plt.subplots(3, 3, figsize=(13, 10))\n",
    "fig.suptitle('Histograms of Numeric Features')\n",
    "\n",
    "sns.histplot(ax=axes[0, 0], data=predictors['loneliness'])\n",
    "sns.histplot(ax=axes[0, 1], data=predictors['depression'])\n",
    "sns.histplot(ax=axes[0, 2], data=predictors['behav_act'])\n",
    "sns.histplot(ax=axes[1, 0], data=predictors['hope'])\n",
    "sns.histplot(ax=axes[1, 1], data=predictors['hopelessness'])\n",
    "sns.histplot(ax=axes[1, 2], data=predictors['child_adverse'])\n",
    "sns.histplot(ax=axes[2, 0], data=predictors['peer_vict'])\n",
    "sns.histplot(ax=axes[2, 1], data=predictors['discrimination'])\n",
    "sns.histplot(ax=axes[2, 2], data=predictors['anxiety'])"
   ]
  },
  {
   "cell_type": "code",
   "execution_count": 23,
   "id": "af6577df-63e4-4705-9727-bbcd3c2db8e0",
   "metadata": {},
   "outputs": [
    {
     "data": {
      "image/png": "[encoded data removed]",
      "text/plain": [
       "<Figure size 640x480 with 1 Axes>"
      ]
     },
     "metadata": {},
     "output_type": "display_data"
    }
   ],
   "source": [
    "# countplots of categorical features\n",
    "sns.histplot(predictors['sex'])\n",
    "plt.xticks(\n",
    "    rotation=45, \n",
    "    horizontalalignment='right' \n",
    ")\n",
    "\n",
    "# don't show the label objects\n",
    "None"
   ]
  },
  {
   "cell_type": "code",
   "execution_count": 24,
   "id": "c5d3879d-deed-4194-b53a-0d00462769e4",
   "metadata": {},
   "outputs": [
    {
     "data": {
      "image/png": "[encoded data removed]",
      "text/plain": [
       "<Figure size 640x480 with 1 Axes>"
      ]
     },
     "metadata": {},
     "output_type": "display_data"
    }
   ],
   "source": [
    "sns.histplot(predictors['gender'])\n",
    "plt.xticks(\n",
    "    rotation=45, \n",
    "    horizontalalignment='right' \n",
    ")\n",
    "None"
   ]
  },
  {
   "cell_type": "code",
   "execution_count": 25,
   "id": "2e657163-1921-4d9f-ab0e-c221f4e2950f",
   "metadata": {},
   "outputs": [
    {
     "data": {
      "image/png": "[encoded data removed]",
      "text/plain": [
       "<Figure size 640x480 with 1 Axes>"
      ]
     },
     "metadata": {},
     "output_type": "display_data"
    }
   ],
   "source": [
    "sns.histplot(predictors['orientation'])\n",
    "plt.xticks(\n",
    "    rotation=45, \n",
    "    horizontalalignment='right' \n",
    ")\n",
    "None"
   ]
  },
  {
   "cell_type": "code",
   "execution_count": 47,
   "id": "de197860-e140-4f49-9292-7e52cb839877",
   "metadata": {},
   "outputs": [
    {
     "name": "stdout",
     "output_type": "stream",
     "text": [
      "<class 'pandas.core.series.Series'>\n",
      "RangeIndex: 2452 entries, 0 to 2451\n",
      "Series name: b_sitbi_2\n",
      "Non-Null Count  Dtype  \n",
      "--------------  -----  \n",
      "2451 non-null   float64\n",
      "dtypes: float64(1)\n",
      "memory usage: 19.3 KB\n"
     ]
    }
   ],
   "source": [
    "target.info()"
   ]
  },
  {
   "cell_type": "code",
   "execution_count": 53,
   "id": "48196ee9-d7cb-4e3a-bb6b-77fdbf2284e9",
   "metadata": {},
   "outputs": [
    {
     "data": {
      "text/plain": [
       "Text(0.5, 0.98, 'b_sitbi_2 counts')"
      ]
     },
     "execution_count": 53,
     "metadata": {},
     "output_type": "execute_result"
    },
    {
     "data": {
      "image/png": "[encoded data removed]",
      "text/plain": [
       "<Figure size 640x480 with 1 Axes>"
      ]
     },
     "metadata": {},
     "output_type": "display_data"
    }
   ],
   "source": [
    "# countplot of target\n",
    "sns.countplot(data=target, x=target.values)\n",
    "plt.suptitle('b_sitbi_2 counts')"
   ]
  },
  {
   "cell_type": "code",
   "execution_count": 51,
   "id": "c62162cc-7a29-4c35-b698-ce9e24c49f47",
   "metadata": {},
   "outputs": [
    {
     "data": {
      "text/plain": [
       "1.0    67.44186\n",
       "0.0    32.55814\n",
       "Name: b_sitbi_2, dtype: float64"
      ]
     },
     "execution_count": 51,
     "metadata": {},
     "output_type": "execute_result"
    }
   ],
   "source": [
    "# target category percentages\n",
    "target.value_counts(normalize=True)*100"
   ]
  },
  {
   "cell_type": "markdown",
   "id": "a32e9a92-aa76-4446-80c6-b20111423c79",
   "metadata": {},
   "source": [
    "## Initial Random Forest Model"
   ]
  },
  {
   "cell_type": "code",
   "execution_count": 14,
   "id": "5384a228-ee7e-4979-b117-8433c130e043",
   "metadata": {},
   "outputs": [],
   "source": [
    "preprocessor = ColumnTransformer([\n",
    "    ('categorical', OrdinalEncoder(handle_unknown = \"use_encoded_value\", unknown_value = -1), categorical_columns)], \n",
    "    remainder = 'passthrough')\n",
    "\n",
    "imputer = KNNImputer()\n",
    "\n",
    "RFC = RandomForestClassifier(n_estimators=100, n_jobs=2, random_state=0)\n",
    "\n",
    "model = make_pipeline(preprocessor, imputer, RFC)"
   ]
  },
  {
   "cell_type": "code",
   "execution_count": 15,
   "id": "8703418e-ac63-4022-a38f-dd7a8423c777",
   "metadata": {},
   "outputs": [],
   "source": [
    "# model is actually run \n",
    "cv_results = cross_validate(model, model_data, target)"
   ]
  },
  {
   "cell_type": "code",
   "execution_count": 11,
   "id": "f62fa52c-25af-478b-8f58-9c1b76f819ed",
   "metadata": {},
   "outputs": [
    {
     "name": "stdout",
     "output_type": "stream",
     "text": [
      "The mean accuracy with cross-validation is: 0.713 +/- 0.006\n"
     ]
    }
   ],
   "source": [
    "print(\"The mean accuracy with cross-validation is: \" \n",
    "      f\"{cv_results['test_score'].mean():.3f} +/- {cv_results['test_score'].std():.3f}\") "
   ]
  },
  {
   "cell_type": "code",
   "execution_count": 17,
   "id": "2baf2aac-d05d-46a5-b4f8-989d78dbb216",
   "metadata": {},
   "outputs": [
    {
     "name": "stdout",
     "output_type": "stream",
     "text": [
      "The mean accuracy with cross-validation is: 0.674 +/- 0.001\n"
     ]
    }
   ],
   "source": [
    "#identify which target value is most common in the SI target variable and see how accurate it is\n",
    "dummy_results = cross_validate(DummyClassifier(), model_data, target)\n",
    "print(\"The mean accuracy with cross-validation is: \" \n",
    "      f\"{dummy_results['test_score'].mean():.3f} +/- {dummy_results['test_score'].std():.3f}\") "
   ]
  },
  {
   "cell_type": "markdown",
   "id": "49cc6640-754f-4e76-a5dc-408368984cbc",
   "metadata": {},
   "source": [
    "## Some code for random forest classifier for later"
   ]
  },
  {
   "cell_type": "markdown",
   "id": "8cc55e26-c388-49dd-abbe-431d7f74f1e9",
   "metadata": {},
   "source": [
    "### Optimizing model parameters"
   ]
  },
  {
   "cell_type": "code",
   "execution_count": null,
   "id": "fc035152-ef0c-4ac2-a673-32c7951151da",
   "metadata": {},
   "outputs": [],
   "source": [
    "from sklearn.model_selection import GridSearchCV \n",
    "from sklearn.model_selection import RandomizedSearchCV "
   ]
  },
  {
   "cell_type": "code",
   "execution_count": null,
   "id": "d48343f1-68e7-4c19-aebf-520eeee9cd75",
   "metadata": {},
   "outputs": [],
   "source": [
    "#simple performance reporting function\n",
    "def clf_performance(classifier, model_name):\n",
    "    print(model_name)\n",
    "    print('Best Score: ' + str(classifier.best_score_))\n",
    "    print('Best Parameters: ' + str(classifier.best_params_))"
   ]
  },
  {
   "cell_type": "code",
   "execution_count": null,
   "id": "7bfde0dc-fd48-45ff-8bbd-027c2f97fca4",
   "metadata": {},
   "outputs": [],
   "source": [
    "#Because the total feature space is so large, I used a randomized search to narrow down the paramters for the model. \n",
    "#I took the best model from this and did a more granular search \n",
    "rf = RandomForestClassifier(random_state = 1)\n",
    "param_grid =  {'n_estimators': [100,500,1000], \n",
    "                                  'bootstrap': [True,False],\n",
    "                                  'max_depth': [3,5,10,20,50,75,100,None],\n",
    "                                  'max_features': ['auto','sqrt'],\n",
    "                                  'min_samples_leaf': [1,2,4,10],\n",
    "                                  'min_samples_split': [2,5,10]}\n",
    "                                  \n",
    "clf_rf_rnd = RandomizedSearchCV(rf, param_distributions = param_grid, n_iter = 100, cv = 5, verbose = True, n_jobs = -1)\n",
    "best_clf_rf_rnd = clf_rf_rnd.fit(X_train_scaled,y_train)\n",
    "clf_performance(best_clf_rf_rnd,'Random Forest')"
   ]
  },
  {
   "cell_type": "code",
   "execution_count": null,
   "id": "cde42997-8447-4e89-8568-8eb8800aa2e4",
   "metadata": {},
   "outputs": [],
   "source": [
    "rf = RandomForestClassifier(random_state = 1)\n",
    "param_grid =  {'n_estimators': [400,450,500,550],\n",
    "               'criterion':['gini','entropy'],\n",
    "                                  'bootstrap': [True],\n",
    "                                  'max_depth': [15, 20, 25],\n",
    "                                  'max_features': ['auto','sqrt', 10],\n",
    "                                  'min_samples_leaf': [2,3],\n",
    "                                  'min_samples_split': [2,3]}\n",
    "                                  \n",
    "clf_rf = GridSearchCV(rf, param_grid = param_grid, cv = 5, verbose = True, n_jobs = -1)\n",
    "best_clf_rf = clf_rf.fit(X_train_scaled,y_train)\n",
    "clf_performance(best_clf_rf,'Random Forest')"
   ]
  },
  {
   "cell_type": "code",
   "execution_count": null,
   "id": "b0d57a4a-3fe8-4b76-94bf-3446193505f6",
   "metadata": {},
   "outputs": [],
   "source": [
    "import matplotlib.pyplot as plt\n",
    "best_rf = best_clf_rf.best_estimator_.fit(X_train_scaled,y_train)\n",
    "feat_importances = pd.Series(best_rf.feature_importances_, index=X_train_scaled.columns)\n",
    "feat_importances.nlargest(20).plot(kind='barh')"
   ]
  }
 ],
 "metadata": {
  "kernelspec": {
   "display_name": "data_sci",
   "language": "python",
   "name": "data_sci"
  },
  "language_info": {
   "codemirror_mode": {
    "name": "ipython",
    "version": 3
   },
   "file_extension": ".py",
   "mimetype": "text/x-python",
   "name": "python",
   "nbconvert_exporter": "python",
   "pygments_lexer": "ipython3",
   "version": "3.9.12"
  }
 },
 "nbformat": 4,
 "nbformat_minor": 5
}
